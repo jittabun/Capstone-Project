{
 "cells": [
  {
   "cell_type": "code",
   "execution_count": 1,
   "id": "0f7429c7",
   "metadata": {},
   "outputs": [],
   "source": [
    "from fs.osfs import OSFS"
   ]
  },
  {
   "cell_type": "code",
   "execution_count": 2,
   "id": "75641a19",
   "metadata": {},
   "outputs": [],
   "source": [
    "from selenium import webdriver\n",
    "from bs4 import BeautifulSoup\n",
    "import time\n",
    "import requests\n",
    "import urllib.request"
   ]
  },
  {
   "cell_type": "code",
   "execution_count": 3,
   "id": "17a08607",
   "metadata": {},
   "outputs": [],
   "source": [
    "#driver = webdriver.Chrome(executable_path = 'C:\\ML\\chromedriver')"
   ]
  },
  {
   "cell_type": "code",
   "execution_count": 4,
   "id": "0f2279b2",
   "metadata": {},
   "outputs": [
    {
     "data": {
      "text/plain": [
       "'\\ndriver = webdriver.Chrome(executable_path = \\'C:\\\\ML\\\\chromedriver\\')\\nsite = \\'https://google.com/search?q=\\'+\\'Honda\\'+\\'&tbm=isch\\'+\\'&tbs=isz:lt,islt:svga\\'\\ndriver.get(site)\\nfor i in range(0,7):\\n    driver.execute_script(\"window.scrollBy(0,document.body.scrollHeight)\")\\n    try:\\n        # for clicking show more results button\\n        driver.find_element_by_xpath(\\'//*[@id=\"islmp\"]/div/div/div/div/div[2]/div[2]/input\\').click()\\n    except Exception as e:\\n        pass\\n    time.sleep(3)\\n    \\n\\nsoup = BeautifulSoup(driver.page_source, \\'html.parser\\')\\nprint(soup)\\n'"
      ]
     },
     "execution_count": 4,
     "metadata": {},
     "output_type": "execute_result"
    }
   ],
   "source": [
    "# Look into data\n",
    "\"\"\"\n",
    "driver = webdriver.Chrome(executable_path = 'C:\\ML\\chromedriver')\n",
    "site = 'https://google.com/search?q='+'Honda'+'&tbm=isch'+'&tbs=isz:lt,islt:svga'\n",
    "driver.get(site)\n",
    "for i in range(0,7):\n",
    "    driver.execute_script(\"window.scrollBy(0,document.body.scrollHeight)\")\n",
    "    try:\n",
    "        # for clicking show more results button\n",
    "        driver.find_element_by_xpath('//*[@id=\"islmp\"]/div/div/div/div/div[2]/div[2]/input').click()\n",
    "    except Exception as e:\n",
    "        pass\n",
    "    time.sleep(3)\n",
    "    \n",
    "\n",
    "soup = BeautifulSoup(driver.page_source, 'html.parser')\n",
    "print(soup)\n",
    "\"\"\""
   ]
  },
  {
   "cell_type": "code",
   "execution_count": 5,
   "id": "70288097",
   "metadata": {},
   "outputs": [
    {
     "data": {
      "text/plain": [
       "'\\nimg_tags = soup.find_all(\\'img\\', class_ = \\'rg_i\\')\\ncount = 1 \\nfor i in img_tags:\\n    try:\\n        print(i[\\'src\\'])\\n        urllib.request.urlretrieve(i[\\'src\\'], str(count)+\".jpg\")\\n        print(\\'\\n******\\n\\')\\n        count += 1\\n    except Exception as e:\\n        pass\\n        \\n'"
      ]
     },
     "execution_count": 5,
     "metadata": {},
     "output_type": "execute_result"
    }
   ],
   "source": [
    "# Save image\n",
    "\"\"\"\n",
    "img_tags = soup.find_all('img', class_ = 'rg_i')\n",
    "count = 1 \n",
    "for i in img_tags:\n",
    "    try:\n",
    "        print(i['src'])\n",
    "        urllib.request.urlretrieve(i['src'], str(count)+\".jpg\")\n",
    "        print('\\n******\\n')\n",
    "        count += 1\n",
    "    except Exception as e:\n",
    "        pass\n",
    "        \n",
    "\"\"\""
   ]
  },
  {
   "cell_type": "code",
   "execution_count": 6,
   "id": "f6520348",
   "metadata": {},
   "outputs": [
    {
     "name": "stderr",
     "output_type": "stream",
     "text": [
      "<ipython-input-6-815761eb2df9>:1: DeprecationWarning: executable_path has been deprecated, please pass in a Service object\n",
      "  driver = webdriver.Chrome(executable_path = 'C:\\ML\\chromedriver')\n"
     ]
    }
   ],
   "source": [
    "driver = webdriver.Chrome(executable_path = 'C:\\ML\\chromedriver')"
   ]
  },
  {
   "cell_type": "code",
   "execution_count": 11,
   "id": "d5a1bbc4",
   "metadata": {},
   "outputs": [
    {
     "name": "stderr",
     "output_type": "stream",
     "text": [
      "<ipython-input-11-66a5f76c9c6a>:4: DeprecationWarning: executable_path has been deprecated, please pass in a Service object\n",
      "  driver = webdriver.Chrome(executable_path = 'C:\\ML\\chromedriver')\n",
      "<ipython-input-11-66a5f76c9c6a>:6: DeprecationWarning: executable_path has been deprecated, please pass in a Service object\n",
      "  driver = webdriver.Chrome(executable_path = 'C:\\ML\\chromedriver')\n",
      "<ipython-input-11-66a5f76c9c6a>:14: DeprecationWarning: find_element_by_* commands are deprecated. Please use find_element() instead\n",
      "  driver.find_element_by_xpath('//*[@id=\"islmp\"]/div/div/div/div/div[2]/div[2]/input').click()\n"
     ]
    }
   ],
   "source": [
    "### For Project\n",
    "\n",
    "keywords = ['Apple' , 'Banana' , 'Cherry' , 'Orange']\n",
    "driver = webdriver.Chrome(executable_path = 'C:\\ML\\chromedriver')\n",
    "for keyword in keywords:\n",
    "    driver = webdriver.Chrome(executable_path = 'C:\\ML\\chromedriver')\n",
    "    site = 'https://google.com/search?q='+keyword+'&tbm=isch'+'&tbs=isz:lt,islt:svga'\n",
    "    driver.get(site)\n",
    "    \n",
    "    for i in range(0,7):\n",
    "        driver.execute_script(\"window.scrollBy(0,document.body.scrollHeight)\")\n",
    "        try:\n",
    "        # for clicking show more results button\n",
    "            driver.find_element_by_xpath('//*[@id=\"islmp\"]/div/div/div/div/div[2]/div[2]/input').click()\n",
    "        except Exception as e:\n",
    "            pass\n",
    "        time.sleep(3)\n",
    "        \n",
    "    soup = BeautifulSoup(driver.page_source, 'html.parser')\n",
    "    img_tags = soup.find_all('img', class_ = 'rg_i')\n",
    "    with OSFS('./download') as myfs:\n",
    "        if (not myfs.exists(keyword)):\n",
    "            myfs.makedir(keyword)\n",
    "    count = 1 \n",
    "    for i in img_tags:\n",
    "        try:\n",
    "            path = 'download/'+ keyword +'/'+keyword + str(count) + '.jpg'\n",
    "            urllib.request.urlretrieve(i['src'], path)\n",
    "            count += 1\n",
    "        except Exception as e:\n",
    "            pass\n",
    "        \n",
    "    \n",
    "\n",
    "    "
   ]
  },
  {
   "cell_type": "code",
   "execution_count": null,
   "id": "1a12d5f2",
   "metadata": {},
   "outputs": [],
   "source": []
  }
 ],
 "metadata": {
  "kernelspec": {
   "display_name": "Python 3",
   "language": "python",
   "name": "python3"
  },
  "language_info": {
   "codemirror_mode": {
    "name": "ipython",
    "version": 3
   },
   "file_extension": ".py",
   "mimetype": "text/x-python",
   "name": "python",
   "nbconvert_exporter": "python",
   "pygments_lexer": "ipython3",
   "version": "3.8.8"
  }
 },
 "nbformat": 4,
 "nbformat_minor": 5
}
