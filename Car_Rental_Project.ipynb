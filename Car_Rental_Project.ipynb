{
 "cells": [
  {
   "cell_type": "code",
   "execution_count": 1,
   "id": "256fb13f",
   "metadata": {},
   "outputs": [],
   "source": [
    "import pandas as pd\n",
    "import numpy as np\n",
    "import matplotlib.pyplot as plt\n",
    "import seaborn as sns"
   ]
  },
  {
   "cell_type": "code",
   "execution_count": 2,
   "id": "ee9b0a0f",
   "metadata": {},
   "outputs": [],
   "source": [
    "url = \"https://raw.githubusercontent.com/ferdinjoe/DSA206/main/carrental%202019.csv\"\n",
    "data = pd.read_csv(url)"
   ]
  },
  {
   "cell_type": "code",
   "execution_count": 3,
   "id": "204211a7",
   "metadata": {},
   "outputs": [
    {
     "data": {
      "text/html": [
       "<div>\n",
       "<style scoped>\n",
       "    .dataframe tbody tr th:only-of-type {\n",
       "        vertical-align: middle;\n",
       "    }\n",
       "\n",
       "    .dataframe tbody tr th {\n",
       "        vertical-align: top;\n",
       "    }\n",
       "\n",
       "    .dataframe thead th {\n",
       "        text-align: right;\n",
       "    }\n",
       "</style>\n",
       "<table border=\"1\" class=\"dataframe\">\n",
       "  <thead>\n",
       "    <tr style=\"text-align: right;\">\n",
       "      <th></th>\n",
       "      <th>created_at</th>\n",
       "      <th>order_id</th>\n",
       "      <th>rent_channel</th>\n",
       "      <th>payment_method</th>\n",
       "      <th>car</th>\n",
       "      <th>car__owner__user_status</th>\n",
       "      <th>car__brand</th>\n",
       "      <th>car__model</th>\n",
       "      <th>rental_category</th>\n",
       "      <th>total_period</th>\n",
       "      <th>...</th>\n",
       "      <th>discount_amount</th>\n",
       "      <th>promotion_amount</th>\n",
       "      <th>redeem_amount</th>\n",
       "      <th>total_amount</th>\n",
       "      <th>hold_amount</th>\n",
       "      <th>tax_withholding</th>\n",
       "      <th>status</th>\n",
       "      <th>confirm_at</th>\n",
       "      <th>complete_at</th>\n",
       "      <th>cancel_at</th>\n",
       "    </tr>\n",
       "  </thead>\n",
       "  <tbody>\n",
       "    <tr>\n",
       "      <th>0</th>\n",
       "      <td>12/31/2019 19:34</td>\n",
       "      <td>DM5427-26129</td>\n",
       "      <td>ios</td>\n",
       "      <td>credit</td>\n",
       "      <td>5427:Mini  Countryman</td>\n",
       "      <td>private</td>\n",
       "      <td>Mini</td>\n",
       "      <td>Countryman</td>\n",
       "      <td>car</td>\n",
       "      <td>5.0</td>\n",
       "      <td>...</td>\n",
       "      <td>0.0</td>\n",
       "      <td>0.0</td>\n",
       "      <td>0.0</td>\n",
       "      <td>42693.0</td>\n",
       "      <td>0</td>\n",
       "      <td>0.0</td>\n",
       "      <td>complete</td>\n",
       "      <td>12/31/2019 20:46</td>\n",
       "      <td>1/7/2020 22:44</td>\n",
       "      <td>NaN</td>\n",
       "    </tr>\n",
       "    <tr>\n",
       "      <th>1</th>\n",
       "      <td>12/31/2019 14:02</td>\n",
       "      <td>DM5619-26120</td>\n",
       "      <td>web</td>\n",
       "      <td>transfer</td>\n",
       "      <td>5619:Honda City</td>\n",
       "      <td>private</td>\n",
       "      <td>Honda</td>\n",
       "      <td>City</td>\n",
       "      <td>car</td>\n",
       "      <td>2.0</td>\n",
       "      <td>...</td>\n",
       "      <td>0.0</td>\n",
       "      <td>300.0</td>\n",
       "      <td>0.0</td>\n",
       "      <td>1999.2</td>\n",
       "      <td>5000</td>\n",
       "      <td>98.0</td>\n",
       "      <td>complete</td>\n",
       "      <td>48:18.7</td>\n",
       "      <td>15:30.3</td>\n",
       "      <td>NaN</td>\n",
       "    </tr>\n",
       "    <tr>\n",
       "      <th>2</th>\n",
       "      <td>12/31/2019 9:37</td>\n",
       "      <td>DM6425-26102</td>\n",
       "      <td>web</td>\n",
       "      <td>transfer</td>\n",
       "      <td>6425:Mazda 2</td>\n",
       "      <td>private</td>\n",
       "      <td>Mazda</td>\n",
       "      <td>2</td>\n",
       "      <td>car</td>\n",
       "      <td>1.0</td>\n",
       "      <td>...</td>\n",
       "      <td>0.0</td>\n",
       "      <td>0.0</td>\n",
       "      <td>0.0</td>\n",
       "      <td>1048.6</td>\n",
       "      <td>5000</td>\n",
       "      <td>0.0</td>\n",
       "      <td>complete</td>\n",
       "      <td>48:50.6</td>\n",
       "      <td>48:31.4</td>\n",
       "      <td>NaN</td>\n",
       "    </tr>\n",
       "    <tr>\n",
       "      <th>3</th>\n",
       "      <td>12/30/2019 23:05</td>\n",
       "      <td>DM6010-26093</td>\n",
       "      <td>ios</td>\n",
       "      <td>credit</td>\n",
       "      <td>6010:Toyota Yaris</td>\n",
       "      <td>local</td>\n",
       "      <td>Toyota</td>\n",
       "      <td>Yaris</td>\n",
       "      <td>car</td>\n",
       "      <td>1.0</td>\n",
       "      <td>...</td>\n",
       "      <td>0.0</td>\n",
       "      <td>0.0</td>\n",
       "      <td>0.0</td>\n",
       "      <td>1358.9</td>\n",
       "      <td>0</td>\n",
       "      <td>0.0</td>\n",
       "      <td>complete</td>\n",
       "      <td>06:24.2</td>\n",
       "      <td>28:00.5</td>\n",
       "      <td>NaN</td>\n",
       "    </tr>\n",
       "    <tr>\n",
       "      <th>4</th>\n",
       "      <td>12/30/2019 20:28</td>\n",
       "      <td>DM1907-26090</td>\n",
       "      <td>web</td>\n",
       "      <td>credit</td>\n",
       "      <td>1907:Toyota Vios</td>\n",
       "      <td>private</td>\n",
       "      <td>Toyota</td>\n",
       "      <td>Vios</td>\n",
       "      <td>car</td>\n",
       "      <td>2.0</td>\n",
       "      <td>...</td>\n",
       "      <td>0.0</td>\n",
       "      <td>300.0</td>\n",
       "      <td>0.0</td>\n",
       "      <td>2203.2</td>\n",
       "      <td>0</td>\n",
       "      <td>108.0</td>\n",
       "      <td>complete</td>\n",
       "      <td>38:36.1</td>\n",
       "      <td>15:30.5</td>\n",
       "      <td>NaN</td>\n",
       "    </tr>\n",
       "  </tbody>\n",
       "</table>\n",
       "<p>5 rows × 26 columns</p>\n",
       "</div>"
      ],
      "text/plain": [
       "         created_at      order_id rent_channel payment_method  \\\n",
       "0  12/31/2019 19:34  DM5427-26129          ios         credit   \n",
       "1  12/31/2019 14:02  DM5619-26120          web       transfer   \n",
       "2   12/31/2019 9:37  DM6425-26102          web       transfer   \n",
       "3  12/30/2019 23:05  DM6010-26093          ios         credit   \n",
       "4  12/30/2019 20:28  DM1907-26090          web         credit   \n",
       "\n",
       "                     car car__owner__user_status car__brand  car__model  \\\n",
       "0  5427:Mini  Countryman                 private      Mini   Countryman   \n",
       "1        5619:Honda City                 private      Honda        City   \n",
       "2           6425:Mazda 2                 private      Mazda           2   \n",
       "3      6010:Toyota Yaris                   local     Toyota       Yaris   \n",
       "4       1907:Toyota Vios                 private     Toyota        Vios   \n",
       "\n",
       "  rental_category  total_period  ...  discount_amount  promotion_amount  \\\n",
       "0             car           5.0  ...              0.0               0.0   \n",
       "1             car           2.0  ...              0.0             300.0   \n",
       "2             car           1.0  ...              0.0               0.0   \n",
       "3             car           1.0  ...              0.0               0.0   \n",
       "4             car           2.0  ...              0.0             300.0   \n",
       "\n",
       "   redeem_amount  total_amount  hold_amount  tax_withholding    status  \\\n",
       "0            0.0       42693.0            0              0.0  complete   \n",
       "1            0.0        1999.2         5000             98.0  complete   \n",
       "2            0.0        1048.6         5000              0.0  complete   \n",
       "3            0.0        1358.9            0              0.0  complete   \n",
       "4            0.0        2203.2            0            108.0  complete   \n",
       "\n",
       "         confirm_at     complete_at  cancel_at  \n",
       "0  12/31/2019 20:46  1/7/2020 22:44        NaN  \n",
       "1           48:18.7         15:30.3        NaN  \n",
       "2           48:50.6         48:31.4        NaN  \n",
       "3           06:24.2         28:00.5        NaN  \n",
       "4           38:36.1         15:30.5        NaN  \n",
       "\n",
       "[5 rows x 26 columns]"
      ]
     },
     "execution_count": 3,
     "metadata": {},
     "output_type": "execute_result"
    }
   ],
   "source": [
    "data.head(5)"
   ]
  },
  {
   "cell_type": "code",
   "execution_count": 4,
   "id": "584139ec",
   "metadata": {
    "scrolled": true
   },
   "outputs": [
    {
     "data": {
      "text/plain": [
       "Index(['created_at', 'order_id', 'rent_channel', 'payment_method', 'car',\n",
       "       'car__owner__user_status', 'car__brand', 'car__model',\n",
       "       'rental_category', 'total_period', 'price_per_day', 'total_price',\n",
       "       'insurance_price', 'insurance_amount', 'vat_amount', 'commission',\n",
       "       'discount_amount', 'promotion_amount', 'redeem_amount', 'total_amount',\n",
       "       'hold_amount', 'tax_withholding', 'status', 'confirm_at', 'complete_at',\n",
       "       'cancel_at'],\n",
       "      dtype='object')"
      ]
     },
     "execution_count": 4,
     "metadata": {},
     "output_type": "execute_result"
    }
   ],
   "source": [
    "data.columns"
   ]
  },
  {
   "cell_type": "code",
   "execution_count": 5,
   "id": "ffb255ec",
   "metadata": {},
   "outputs": [
    {
     "name": "stdout",
     "output_type": "stream",
     "text": [
      "<class 'pandas.core.frame.DataFrame'>\n",
      "RangeIndex: 3204 entries, 0 to 3203\n",
      "Data columns (total 26 columns):\n",
      " #   Column                   Non-Null Count  Dtype  \n",
      "---  ------                   --------------  -----  \n",
      " 0   created_at               3204 non-null   object \n",
      " 1   order_id                 3204 non-null   object \n",
      " 2   rent_channel             3204 non-null   object \n",
      " 3   payment_method           3201 non-null   object \n",
      " 4   car                      3121 non-null   object \n",
      " 5   car__owner__user_status  3121 non-null   object \n",
      " 6   car__brand               3121 non-null   object \n",
      " 7   car__model               3121 non-null   object \n",
      " 8   rental_category          3195 non-null   object \n",
      " 9   total_period             3204 non-null   float64\n",
      " 10  price_per_day            3204 non-null   float64\n",
      " 11  total_price              3204 non-null   float64\n",
      " 12  insurance_price          3203 non-null   float64\n",
      " 13  insurance_amount         3204 non-null   int64  \n",
      " 14  vat_amount               3204 non-null   float64\n",
      " 15  commission               3204 non-null   float64\n",
      " 16  discount_amount          3203 non-null   float64\n",
      " 17  promotion_amount         3204 non-null   float64\n",
      " 18  redeem_amount            3203 non-null   float64\n",
      " 19  total_amount             3204 non-null   float64\n",
      " 20  hold_amount              3204 non-null   int64  \n",
      " 21  tax_withholding          3203 non-null   float64\n",
      " 22  status                   3204 non-null   object \n",
      " 23  confirm_at               3204 non-null   object \n",
      " 24  complete_at              2104 non-null   object \n",
      " 25  cancel_at                275 non-null    object \n",
      "dtypes: float64(11), int64(2), object(13)\n",
      "memory usage: 650.9+ KB\n"
     ]
    }
   ],
   "source": [
    "data.info()"
   ]
  },
  {
   "cell_type": "code",
   "execution_count": 6,
   "id": "344f1212",
   "metadata": {},
   "outputs": [
    {
     "data": {
      "text/html": [
       "<div>\n",
       "<style scoped>\n",
       "    .dataframe tbody tr th:only-of-type {\n",
       "        vertical-align: middle;\n",
       "    }\n",
       "\n",
       "    .dataframe tbody tr th {\n",
       "        vertical-align: top;\n",
       "    }\n",
       "\n",
       "    .dataframe thead th {\n",
       "        text-align: right;\n",
       "    }\n",
       "</style>\n",
       "<table border=\"1\" class=\"dataframe\">\n",
       "  <thead>\n",
       "    <tr style=\"text-align: right;\">\n",
       "      <th></th>\n",
       "      <th>insurance_price</th>\n",
       "      <th>insurance_amount</th>\n",
       "      <th>total_price</th>\n",
       "    </tr>\n",
       "  </thead>\n",
       "  <tbody>\n",
       "    <tr>\n",
       "      <th>0</th>\n",
       "      <td>710.0</td>\n",
       "      <td>4260</td>\n",
       "      <td>35640.0</td>\n",
       "    </tr>\n",
       "    <tr>\n",
       "      <th>1</th>\n",
       "      <td>280.0</td>\n",
       "      <td>560</td>\n",
       "      <td>1700.0</td>\n",
       "    </tr>\n",
       "    <tr>\n",
       "      <th>2</th>\n",
       "      <td>280.0</td>\n",
       "      <td>280</td>\n",
       "      <td>700.0</td>\n",
       "    </tr>\n",
       "    <tr>\n",
       "      <th>3</th>\n",
       "      <td>280.0</td>\n",
       "      <td>280</td>\n",
       "      <td>990.0</td>\n",
       "    </tr>\n",
       "    <tr>\n",
       "      <th>4</th>\n",
       "      <td>380.0</td>\n",
       "      <td>760</td>\n",
       "      <td>1700.0</td>\n",
       "    </tr>\n",
       "    <tr>\n",
       "      <th>...</th>\n",
       "      <td>...</td>\n",
       "      <td>...</td>\n",
       "      <td>...</td>\n",
       "    </tr>\n",
       "    <tr>\n",
       "      <th>3199</th>\n",
       "      <td>280.0</td>\n",
       "      <td>560</td>\n",
       "      <td>1300.0</td>\n",
       "    </tr>\n",
       "    <tr>\n",
       "      <th>3200</th>\n",
       "      <td>280.0</td>\n",
       "      <td>840</td>\n",
       "      <td>1950.0</td>\n",
       "    </tr>\n",
       "    <tr>\n",
       "      <th>3201</th>\n",
       "      <td>0.0</td>\n",
       "      <td>0</td>\n",
       "      <td>2700.0</td>\n",
       "    </tr>\n",
       "    <tr>\n",
       "      <th>3202</th>\n",
       "      <td>680.0</td>\n",
       "      <td>680</td>\n",
       "      <td>5000.0</td>\n",
       "    </tr>\n",
       "    <tr>\n",
       "      <th>3203</th>\n",
       "      <td>680.0</td>\n",
       "      <td>3400</td>\n",
       "      <td>14000.0</td>\n",
       "    </tr>\n",
       "  </tbody>\n",
       "</table>\n",
       "<p>3204 rows × 3 columns</p>\n",
       "</div>"
      ],
      "text/plain": [
       "      insurance_price  insurance_amount  total_price\n",
       "0               710.0              4260      35640.0\n",
       "1               280.0               560       1700.0\n",
       "2               280.0               280        700.0\n",
       "3               280.0               280        990.0\n",
       "4               380.0               760       1700.0\n",
       "...               ...               ...          ...\n",
       "3199            280.0               560       1300.0\n",
       "3200            280.0               840       1950.0\n",
       "3201              0.0                 0       2700.0\n",
       "3202            680.0               680       5000.0\n",
       "3203            680.0              3400      14000.0\n",
       "\n",
       "[3204 rows x 3 columns]"
      ]
     },
     "execution_count": 6,
     "metadata": {},
     "output_type": "execute_result"
    }
   ],
   "source": [
    "data[['insurance_price' , 'insurance_amount','total_price']]"
   ]
  },
  {
   "cell_type": "code",
   "execution_count": 7,
   "id": "b2c91938",
   "metadata": {
    "scrolled": true
   },
   "outputs": [
    {
     "data": {
      "text/plain": [
       "created_at                    0\n",
       "order_id                      0\n",
       "rent_channel                  0\n",
       "payment_method                3\n",
       "car                          83\n",
       "car__owner__user_status      83\n",
       "car__brand                   83\n",
       "car__model                   83\n",
       "rental_category               9\n",
       "total_period                  0\n",
       "price_per_day                 0\n",
       "total_price                   0\n",
       "insurance_price               1\n",
       "insurance_amount              0\n",
       "vat_amount                    0\n",
       "commission                    0\n",
       "discount_amount               1\n",
       "promotion_amount              0\n",
       "redeem_amount                 1\n",
       "total_amount                  0\n",
       "hold_amount                   0\n",
       "tax_withholding               1\n",
       "status                        0\n",
       "confirm_at                    0\n",
       "complete_at                1100\n",
       "cancel_at                  2929\n",
       "dtype: int64"
      ]
     },
     "execution_count": 7,
     "metadata": {},
     "output_type": "execute_result"
    }
   ],
   "source": [
    "data.isnull().sum()"
   ]
  },
  {
   "cell_type": "code",
   "execution_count": 8,
   "id": "727c79e6",
   "metadata": {},
   "outputs": [],
   "source": [
    "df = data"
   ]
  },
  {
   "cell_type": "code",
   "execution_count": 9,
   "id": "6c415560",
   "metadata": {},
   "outputs": [
    {
     "data": {
      "text/html": [
       "<div>\n",
       "<style scoped>\n",
       "    .dataframe tbody tr th:only-of-type {\n",
       "        vertical-align: middle;\n",
       "    }\n",
       "\n",
       "    .dataframe tbody tr th {\n",
       "        vertical-align: top;\n",
       "    }\n",
       "\n",
       "    .dataframe thead th {\n",
       "        text-align: right;\n",
       "    }\n",
       "</style>\n",
       "<table border=\"1\" class=\"dataframe\">\n",
       "  <thead>\n",
       "    <tr style=\"text-align: right;\">\n",
       "      <th></th>\n",
       "      <th>created_at</th>\n",
       "      <th>order_id</th>\n",
       "      <th>rent_channel</th>\n",
       "      <th>payment_method</th>\n",
       "      <th>car</th>\n",
       "      <th>car__owner__user_status</th>\n",
       "      <th>car__brand</th>\n",
       "      <th>car__model</th>\n",
       "      <th>rental_category</th>\n",
       "      <th>total_period</th>\n",
       "      <th>...</th>\n",
       "      <th>discount_amount</th>\n",
       "      <th>promotion_amount</th>\n",
       "      <th>redeem_amount</th>\n",
       "      <th>total_amount</th>\n",
       "      <th>hold_amount</th>\n",
       "      <th>tax_withholding</th>\n",
       "      <th>status</th>\n",
       "      <th>confirm_at</th>\n",
       "      <th>complete_at</th>\n",
       "      <th>cancel_at</th>\n",
       "    </tr>\n",
       "  </thead>\n",
       "  <tbody>\n",
       "    <tr>\n",
       "      <th>81</th>\n",
       "      <td>12/23/2019 20:25</td>\n",
       "      <td>DM4378-25528</td>\n",
       "      <td>web</td>\n",
       "      <td>credit</td>\n",
       "      <td>NaN</td>\n",
       "      <td>NaN</td>\n",
       "      <td>NaN</td>\n",
       "      <td>NaN</td>\n",
       "      <td>car</td>\n",
       "      <td>2.0</td>\n",
       "      <td>...</td>\n",
       "      <td>0.0</td>\n",
       "      <td>0.0</td>\n",
       "      <td>0.0</td>\n",
       "      <td>3876.0</td>\n",
       "      <td>5000</td>\n",
       "      <td>190.0</td>\n",
       "      <td>complete</td>\n",
       "      <td>36:02.4</td>\n",
       "      <td>14:19.5</td>\n",
       "      <td>NaN</td>\n",
       "    </tr>\n",
       "    <tr>\n",
       "      <th>297</th>\n",
       "      <td>12/11/2019 22:57</td>\n",
       "      <td>DM4330-24446</td>\n",
       "      <td>web</td>\n",
       "      <td>credit</td>\n",
       "      <td>NaN</td>\n",
       "      <td>NaN</td>\n",
       "      <td>NaN</td>\n",
       "      <td>NaN</td>\n",
       "      <td>car</td>\n",
       "      <td>4.0</td>\n",
       "      <td>...</td>\n",
       "      <td>0.0</td>\n",
       "      <td>0.0</td>\n",
       "      <td>0.0</td>\n",
       "      <td>6405.6</td>\n",
       "      <td>5000</td>\n",
       "      <td>314.0</td>\n",
       "      <td>complete</td>\n",
       "      <td>49:34.9</td>\n",
       "      <td>13:38.6</td>\n",
       "      <td>12/12/2019 11:30</td>\n",
       "    </tr>\n",
       "    <tr>\n",
       "      <th>321</th>\n",
       "      <td>12/10/2019 22:13</td>\n",
       "      <td>DM4367-24347</td>\n",
       "      <td>ios</td>\n",
       "      <td>credit</td>\n",
       "      <td>NaN</td>\n",
       "      <td>NaN</td>\n",
       "      <td>NaN</td>\n",
       "      <td>NaN</td>\n",
       "      <td>car</td>\n",
       "      <td>4.0</td>\n",
       "      <td>...</td>\n",
       "      <td>0.0</td>\n",
       "      <td>0.0</td>\n",
       "      <td>0.0</td>\n",
       "      <td>7704.0</td>\n",
       "      <td>5000</td>\n",
       "      <td>0.0</td>\n",
       "      <td>complete</td>\n",
       "      <td>15:26.2</td>\n",
       "      <td>14:23.4</td>\n",
       "      <td>NaN</td>\n",
       "    </tr>\n",
       "    <tr>\n",
       "      <th>386</th>\n",
       "      <td>12/8/2019 11:31</td>\n",
       "      <td>DM4367-24135</td>\n",
       "      <td>ios</td>\n",
       "      <td>credit</td>\n",
       "      <td>NaN</td>\n",
       "      <td>NaN</td>\n",
       "      <td>NaN</td>\n",
       "      <td>NaN</td>\n",
       "      <td>car</td>\n",
       "      <td>4.0</td>\n",
       "      <td>...</td>\n",
       "      <td>0.0</td>\n",
       "      <td>0.0</td>\n",
       "      <td>0.0</td>\n",
       "      <td>6805.2</td>\n",
       "      <td>5000</td>\n",
       "      <td>0.0</td>\n",
       "      <td>complete</td>\n",
       "      <td>09:56.4</td>\n",
       "      <td>43:37.0</td>\n",
       "      <td>NaN</td>\n",
       "    </tr>\n",
       "    <tr>\n",
       "      <th>480</th>\n",
       "      <td>12/3/2019 19:11</td>\n",
       "      <td>DM4367-23620</td>\n",
       "      <td>web</td>\n",
       "      <td>cash</td>\n",
       "      <td>NaN</td>\n",
       "      <td>NaN</td>\n",
       "      <td>NaN</td>\n",
       "      <td>NaN</td>\n",
       "      <td>car</td>\n",
       "      <td>4.0</td>\n",
       "      <td>...</td>\n",
       "      <td>0.0</td>\n",
       "      <td>0.0</td>\n",
       "      <td>0.0</td>\n",
       "      <td>6805.2</td>\n",
       "      <td>5000</td>\n",
       "      <td>0.0</td>\n",
       "      <td>complete</td>\n",
       "      <td>09:34.6</td>\n",
       "      <td>14:03.3</td>\n",
       "      <td>NaN</td>\n",
       "    </tr>\n",
       "  </tbody>\n",
       "</table>\n",
       "<p>5 rows × 26 columns</p>\n",
       "</div>"
      ],
      "text/plain": [
       "           created_at      order_id rent_channel payment_method  car  \\\n",
       "81   12/23/2019 20:25  DM4378-25528          web         credit  NaN   \n",
       "297  12/11/2019 22:57  DM4330-24446          web         credit  NaN   \n",
       "321  12/10/2019 22:13  DM4367-24347          ios         credit  NaN   \n",
       "386   12/8/2019 11:31  DM4367-24135          ios         credit  NaN   \n",
       "480   12/3/2019 19:11  DM4367-23620          web           cash  NaN   \n",
       "\n",
       "    car__owner__user_status car__brand car__model rental_category  \\\n",
       "81                      NaN        NaN        NaN             car   \n",
       "297                     NaN        NaN        NaN             car   \n",
       "321                     NaN        NaN        NaN             car   \n",
       "386                     NaN        NaN        NaN             car   \n",
       "480                     NaN        NaN        NaN             car   \n",
       "\n",
       "     total_period  ...  discount_amount  promotion_amount  redeem_amount  \\\n",
       "81            2.0  ...              0.0               0.0            0.0   \n",
       "297           4.0  ...              0.0               0.0            0.0   \n",
       "321           4.0  ...              0.0               0.0            0.0   \n",
       "386           4.0  ...              0.0               0.0            0.0   \n",
       "480           4.0  ...              0.0               0.0            0.0   \n",
       "\n",
       "     total_amount  hold_amount  tax_withholding    status  confirm_at  \\\n",
       "81         3876.0         5000            190.0  complete     36:02.4   \n",
       "297        6405.6         5000            314.0  complete     49:34.9   \n",
       "321        7704.0         5000              0.0  complete     15:26.2   \n",
       "386        6805.2         5000              0.0  complete     09:56.4   \n",
       "480        6805.2         5000              0.0  complete     09:34.6   \n",
       "\n",
       "     complete_at         cancel_at  \n",
       "81       14:19.5               NaN  \n",
       "297      13:38.6  12/12/2019 11:30  \n",
       "321      14:23.4               NaN  \n",
       "386      43:37.0               NaN  \n",
       "480      14:03.3               NaN  \n",
       "\n",
       "[5 rows x 26 columns]"
      ]
     },
     "execution_count": 9,
     "metadata": {},
     "output_type": "execute_result"
    }
   ],
   "source": [
    "df[df.isna()[\"car\"]].head(5)"
   ]
  },
  {
   "cell_type": "code",
   "execution_count": 10,
   "id": "29338613",
   "metadata": {
    "scrolled": true
   },
   "outputs": [
    {
     "data": {
      "text/html": [
       "<div>\n",
       "<style scoped>\n",
       "    .dataframe tbody tr th:only-of-type {\n",
       "        vertical-align: middle;\n",
       "    }\n",
       "\n",
       "    .dataframe tbody tr th {\n",
       "        vertical-align: top;\n",
       "    }\n",
       "\n",
       "    .dataframe thead th {\n",
       "        text-align: right;\n",
       "    }\n",
       "</style>\n",
       "<table border=\"1\" class=\"dataframe\">\n",
       "  <thead>\n",
       "    <tr style=\"text-align: right;\">\n",
       "      <th></th>\n",
       "      <th>created_at</th>\n",
       "      <th>order_id</th>\n",
       "      <th>rent_channel</th>\n",
       "      <th>payment_method</th>\n",
       "      <th>car</th>\n",
       "      <th>car__owner__user_status</th>\n",
       "      <th>car__brand</th>\n",
       "      <th>car__model</th>\n",
       "      <th>rental_category</th>\n",
       "      <th>total_period</th>\n",
       "      <th>...</th>\n",
       "      <th>discount_amount</th>\n",
       "      <th>promotion_amount</th>\n",
       "      <th>redeem_amount</th>\n",
       "      <th>total_amount</th>\n",
       "      <th>hold_amount</th>\n",
       "      <th>tax_withholding</th>\n",
       "      <th>status</th>\n",
       "      <th>confirm_at</th>\n",
       "      <th>complete_at</th>\n",
       "      <th>cancel_at</th>\n",
       "    </tr>\n",
       "  </thead>\n",
       "  <tbody>\n",
       "    <tr>\n",
       "      <th>9</th>\n",
       "      <td>12/30/2019 2:02</td>\n",
       "      <td>DM1907-26040</td>\n",
       "      <td>web</td>\n",
       "      <td>credit</td>\n",
       "      <td>1907:Toyota Vios</td>\n",
       "      <td>private</td>\n",
       "      <td>Toyota</td>\n",
       "      <td>Vios</td>\n",
       "      <td>car</td>\n",
       "      <td>3.0</td>\n",
       "      <td>...</td>\n",
       "      <td>0.0</td>\n",
       "      <td>300.0</td>\n",
       "      <td>0.0</td>\n",
       "      <td>3151.8</td>\n",
       "      <td>0</td>\n",
       "      <td>154.5</td>\n",
       "      <td>success</td>\n",
       "      <td>30:41.8</td>\n",
       "      <td>NaN</td>\n",
       "      <td>NaN</td>\n",
       "    </tr>\n",
       "    <tr>\n",
       "      <th>15</th>\n",
       "      <td>12/29/2019 15:51</td>\n",
       "      <td>DM5932-26001</td>\n",
       "      <td>ios</td>\n",
       "      <td>credit</td>\n",
       "      <td>5932:Honda Accord</td>\n",
       "      <td>local</td>\n",
       "      <td>Honda</td>\n",
       "      <td>Accord</td>\n",
       "      <td>car</td>\n",
       "      <td>2.0</td>\n",
       "      <td>...</td>\n",
       "      <td>0.0</td>\n",
       "      <td>0.0</td>\n",
       "      <td>0.0</td>\n",
       "      <td>5136.0</td>\n",
       "      <td>5000</td>\n",
       "      <td>0.0</td>\n",
       "      <td>cancel</td>\n",
       "      <td>26:22.6</td>\n",
       "      <td>NaN</td>\n",
       "      <td>27:19.5</td>\n",
       "    </tr>\n",
       "    <tr>\n",
       "      <th>16</th>\n",
       "      <td>12/29/2019 12:07</td>\n",
       "      <td>DM5170-25990</td>\n",
       "      <td>android</td>\n",
       "      <td>cash</td>\n",
       "      <td>5170:Toyota Yaris</td>\n",
       "      <td>private</td>\n",
       "      <td>Toyota</td>\n",
       "      <td>Yaris</td>\n",
       "      <td>car</td>\n",
       "      <td>3.0</td>\n",
       "      <td>...</td>\n",
       "      <td>0.0</td>\n",
       "      <td>0.0</td>\n",
       "      <td>0.0</td>\n",
       "      <td>2568.0</td>\n",
       "      <td>5000</td>\n",
       "      <td>0.0</td>\n",
       "      <td>cancel</td>\n",
       "      <td>12/29/2019 14:54</td>\n",
       "      <td>NaN</td>\n",
       "      <td>12:50.3</td>\n",
       "    </tr>\n",
       "    <tr>\n",
       "      <th>21</th>\n",
       "      <td>12/29/2019 3:53</td>\n",
       "      <td>DM5698-25971</td>\n",
       "      <td>ios</td>\n",
       "      <td>cash</td>\n",
       "      <td>5698:Toyota Yaris</td>\n",
       "      <td>private</td>\n",
       "      <td>Toyota</td>\n",
       "      <td>Yaris</td>\n",
       "      <td>car</td>\n",
       "      <td>2.0</td>\n",
       "      <td>...</td>\n",
       "      <td>0.0</td>\n",
       "      <td>0.0</td>\n",
       "      <td>0.0</td>\n",
       "      <td>1712.0</td>\n",
       "      <td>5000</td>\n",
       "      <td>0.0</td>\n",
       "      <td>cancel</td>\n",
       "      <td>12/29/2019 10:08</td>\n",
       "      <td>NaN</td>\n",
       "      <td>15:04.4</td>\n",
       "    </tr>\n",
       "    <tr>\n",
       "      <th>28</th>\n",
       "      <td>12/27/2019 15:39</td>\n",
       "      <td>DM4792-25882</td>\n",
       "      <td>ios</td>\n",
       "      <td>credit</td>\n",
       "      <td>4001:Mitsubishi Xpander</td>\n",
       "      <td>private</td>\n",
       "      <td>Mitsubishi</td>\n",
       "      <td>Xpander</td>\n",
       "      <td>car</td>\n",
       "      <td>3.0</td>\n",
       "      <td>...</td>\n",
       "      <td>0.0</td>\n",
       "      <td>0.0</td>\n",
       "      <td>0.0</td>\n",
       "      <td>7704.0</td>\n",
       "      <td>0</td>\n",
       "      <td>0.0</td>\n",
       "      <td>cancel</td>\n",
       "      <td>12/27/2019 16:22</td>\n",
       "      <td>NaN</td>\n",
       "      <td>27:03.1</td>\n",
       "    </tr>\n",
       "    <tr>\n",
       "      <th>35</th>\n",
       "      <td>12/27/2019 10:01</td>\n",
       "      <td>DM6474-25850</td>\n",
       "      <td>line</td>\n",
       "      <td>omiselink</td>\n",
       "      <td>6474:Toyota Yaris Ativ</td>\n",
       "      <td>private</td>\n",
       "      <td>Toyota</td>\n",
       "      <td>Yaris Ativ</td>\n",
       "      <td>car</td>\n",
       "      <td>30.0</td>\n",
       "      <td>...</td>\n",
       "      <td>0.0</td>\n",
       "      <td>0.0</td>\n",
       "      <td>0.0</td>\n",
       "      <td>19795.0</td>\n",
       "      <td>10000</td>\n",
       "      <td>0.0</td>\n",
       "      <td>success</td>\n",
       "      <td>40:05.5</td>\n",
       "      <td>NaN</td>\n",
       "      <td>NaN</td>\n",
       "    </tr>\n",
       "    <tr>\n",
       "      <th>43</th>\n",
       "      <td>12/26/2019 13:38</td>\n",
       "      <td>DM3625-25786</td>\n",
       "      <td>web</td>\n",
       "      <td>credit</td>\n",
       "      <td>3625:BMW Series 5</td>\n",
       "      <td>private</td>\n",
       "      <td>BMW</td>\n",
       "      <td>Series 5</td>\n",
       "      <td>car</td>\n",
       "      <td>5.0</td>\n",
       "      <td>...</td>\n",
       "      <td>0.0</td>\n",
       "      <td>0.0</td>\n",
       "      <td>0.0</td>\n",
       "      <td>64311.0</td>\n",
       "      <td>0</td>\n",
       "      <td>3152.5</td>\n",
       "      <td>cancel</td>\n",
       "      <td>12/26/2019 18:01</td>\n",
       "      <td>NaN</td>\n",
       "      <td>09:35.3</td>\n",
       "    </tr>\n",
       "    <tr>\n",
       "      <th>46</th>\n",
       "      <td>12/26/2019 10:55</td>\n",
       "      <td>DM5976-25767</td>\n",
       "      <td>phone</td>\n",
       "      <td>transfer</td>\n",
       "      <td>5976:Porsche 911 Carrera</td>\n",
       "      <td>local</td>\n",
       "      <td>Porsche</td>\n",
       "      <td>911 Carrera</td>\n",
       "      <td>car</td>\n",
       "      <td>30.0</td>\n",
       "      <td>...</td>\n",
       "      <td>0.0</td>\n",
       "      <td>0.0</td>\n",
       "      <td>0.0</td>\n",
       "      <td>250000.0</td>\n",
       "      <td>0</td>\n",
       "      <td>0.0</td>\n",
       "      <td>success</td>\n",
       "      <td>01:17.2</td>\n",
       "      <td>NaN</td>\n",
       "      <td>NaN</td>\n",
       "    </tr>\n",
       "    <tr>\n",
       "      <th>47</th>\n",
       "      <td>12/26/2019 9:15</td>\n",
       "      <td>DM5895-25760</td>\n",
       "      <td>ios</td>\n",
       "      <td>cash</td>\n",
       "      <td>5895:BMW 520i</td>\n",
       "      <td>local</td>\n",
       "      <td>BMW</td>\n",
       "      <td>520i</td>\n",
       "      <td>car</td>\n",
       "      <td>1.0</td>\n",
       "      <td>...</td>\n",
       "      <td>0.0</td>\n",
       "      <td>0.0</td>\n",
       "      <td>0.0</td>\n",
       "      <td>321000.0</td>\n",
       "      <td>20000</td>\n",
       "      <td>0.0</td>\n",
       "      <td>cancel</td>\n",
       "      <td>12/26/2019 9:17</td>\n",
       "      <td>NaN</td>\n",
       "      <td>26:04.1</td>\n",
       "    </tr>\n",
       "    <tr>\n",
       "      <th>58</th>\n",
       "      <td>12/25/2019 14:01</td>\n",
       "      <td>DM5169-25710</td>\n",
       "      <td>phone</td>\n",
       "      <td>omiselink</td>\n",
       "      <td>5169:Toyota Yaris</td>\n",
       "      <td>private</td>\n",
       "      <td>Toyota</td>\n",
       "      <td>Yaris</td>\n",
       "      <td>car</td>\n",
       "      <td>30.0</td>\n",
       "      <td>...</td>\n",
       "      <td>0.0</td>\n",
       "      <td>0.0</td>\n",
       "      <td>0.0</td>\n",
       "      <td>14445.0</td>\n",
       "      <td>10000</td>\n",
       "      <td>0.0</td>\n",
       "      <td>success</td>\n",
       "      <td>06:47.3</td>\n",
       "      <td>NaN</td>\n",
       "      <td>NaN</td>\n",
       "    </tr>\n",
       "  </tbody>\n",
       "</table>\n",
       "<p>10 rows × 26 columns</p>\n",
       "</div>"
      ],
      "text/plain": [
       "          created_at      order_id rent_channel payment_method  \\\n",
       "9    12/30/2019 2:02  DM1907-26040          web         credit   \n",
       "15  12/29/2019 15:51  DM5932-26001          ios         credit   \n",
       "16  12/29/2019 12:07  DM5170-25990      android           cash   \n",
       "21   12/29/2019 3:53  DM5698-25971          ios           cash   \n",
       "28  12/27/2019 15:39  DM4792-25882          ios         credit   \n",
       "35  12/27/2019 10:01  DM6474-25850         line      omiselink   \n",
       "43  12/26/2019 13:38  DM3625-25786          web         credit   \n",
       "46  12/26/2019 10:55  DM5976-25767        phone       transfer   \n",
       "47   12/26/2019 9:15  DM5895-25760          ios           cash   \n",
       "58  12/25/2019 14:01  DM5169-25710        phone      omiselink   \n",
       "\n",
       "                         car car__owner__user_status  car__brand   car__model  \\\n",
       "9           1907:Toyota Vios                 private      Toyota         Vios   \n",
       "15         5932:Honda Accord                   local       Honda       Accord   \n",
       "16         5170:Toyota Yaris                 private      Toyota        Yaris   \n",
       "21         5698:Toyota Yaris                 private      Toyota        Yaris   \n",
       "28   4001:Mitsubishi Xpander                 private  Mitsubishi      Xpander   \n",
       "35    6474:Toyota Yaris Ativ                 private      Toyota   Yaris Ativ   \n",
       "43         3625:BMW Series 5                 private         BMW     Series 5   \n",
       "46  5976:Porsche 911 Carrera                   local     Porsche  911 Carrera   \n",
       "47             5895:BMW 520i                   local         BMW         520i   \n",
       "58         5169:Toyota Yaris                 private      Toyota        Yaris   \n",
       "\n",
       "   rental_category  total_period  ...  discount_amount  promotion_amount  \\\n",
       "9              car           3.0  ...              0.0             300.0   \n",
       "15             car           2.0  ...              0.0               0.0   \n",
       "16             car           3.0  ...              0.0               0.0   \n",
       "21             car           2.0  ...              0.0               0.0   \n",
       "28             car           3.0  ...              0.0               0.0   \n",
       "35             car          30.0  ...              0.0               0.0   \n",
       "43             car           5.0  ...              0.0               0.0   \n",
       "46             car          30.0  ...              0.0               0.0   \n",
       "47             car           1.0  ...              0.0               0.0   \n",
       "58             car          30.0  ...              0.0               0.0   \n",
       "\n",
       "    redeem_amount  total_amount  hold_amount  tax_withholding   status  \\\n",
       "9             0.0        3151.8            0            154.5  success   \n",
       "15            0.0        5136.0         5000              0.0   cancel   \n",
       "16            0.0        2568.0         5000              0.0   cancel   \n",
       "21            0.0        1712.0         5000              0.0   cancel   \n",
       "28            0.0        7704.0            0              0.0   cancel   \n",
       "35            0.0       19795.0        10000              0.0  success   \n",
       "43            0.0       64311.0            0           3152.5   cancel   \n",
       "46            0.0      250000.0            0              0.0  success   \n",
       "47            0.0      321000.0        20000              0.0   cancel   \n",
       "58            0.0       14445.0        10000              0.0  success   \n",
       "\n",
       "          confirm_at  complete_at  cancel_at  \n",
       "9            30:41.8          NaN        NaN  \n",
       "15           26:22.6          NaN    27:19.5  \n",
       "16  12/29/2019 14:54          NaN    12:50.3  \n",
       "21  12/29/2019 10:08          NaN    15:04.4  \n",
       "28  12/27/2019 16:22          NaN    27:03.1  \n",
       "35           40:05.5          NaN        NaN  \n",
       "43  12/26/2019 18:01          NaN    09:35.3  \n",
       "46           01:17.2          NaN        NaN  \n",
       "47   12/26/2019 9:17          NaN    26:04.1  \n",
       "58           06:47.3          NaN        NaN  \n",
       "\n",
       "[10 rows x 26 columns]"
      ]
     },
     "execution_count": 10,
     "metadata": {},
     "output_type": "execute_result"
    }
   ],
   "source": [
    "df[df.isna().complete_at].head(10)"
   ]
  },
  {
   "cell_type": "code",
   "execution_count": 11,
   "id": "2f542e40",
   "metadata": {},
   "outputs": [],
   "source": [
    "df.dropna(subset=['car', 'car__owner__user_status', 'car__brand', 'car__model'] , inplace = True)"
   ]
  },
  {
   "cell_type": "code",
   "execution_count": 12,
   "id": "5337cc43",
   "metadata": {},
   "outputs": [
    {
     "data": {
      "text/plain": [
       "Index(['created_at', 'order_id', 'rent_channel', 'payment_method', 'car',\n",
       "       'car__owner__user_status', 'car__brand', 'car__model',\n",
       "       'rental_category', 'total_period', 'price_per_day', 'total_price',\n",
       "       'insurance_price', 'insurance_amount', 'vat_amount', 'commission',\n",
       "       'discount_amount', 'promotion_amount', 'redeem_amount', 'total_amount',\n",
       "       'hold_amount', 'tax_withholding', 'status', 'confirm_at', 'complete_at',\n",
       "       'cancel_at'],\n",
       "      dtype='object')"
      ]
     },
     "execution_count": 12,
     "metadata": {},
     "output_type": "execute_result"
    }
   ],
   "source": [
    "df.columns"
   ]
  },
  {
   "cell_type": "code",
   "execution_count": 13,
   "id": "630ea7cc",
   "metadata": {},
   "outputs": [],
   "source": [
    "df.drop(['complete_at' , 'cancel_at'] , axis = 1 , inplace = True)"
   ]
  },
  {
   "cell_type": "code",
   "execution_count": 14,
   "id": "306a2692",
   "metadata": {},
   "outputs": [],
   "source": [
    "df.dropna(inplace = True)"
   ]
  },
  {
   "cell_type": "code",
   "execution_count": 15,
   "id": "60f18b0e",
   "metadata": {
    "scrolled": true
   },
   "outputs": [
    {
     "data": {
      "text/plain": [
       "created_at                 0\n",
       "order_id                   0\n",
       "rent_channel               0\n",
       "payment_method             0\n",
       "car                        0\n",
       "car__owner__user_status    0\n",
       "car__brand                 0\n",
       "car__model                 0\n",
       "rental_category            0\n",
       "total_period               0\n",
       "price_per_day              0\n",
       "total_price                0\n",
       "insurance_price            0\n",
       "insurance_amount           0\n",
       "vat_amount                 0\n",
       "commission                 0\n",
       "discount_amount            0\n",
       "promotion_amount           0\n",
       "redeem_amount              0\n",
       "total_amount               0\n",
       "hold_amount                0\n",
       "tax_withholding            0\n",
       "status                     0\n",
       "confirm_at                 0\n",
       "dtype: int64"
      ]
     },
     "execution_count": 15,
     "metadata": {},
     "output_type": "execute_result"
    }
   ],
   "source": [
    "df.isnull().sum()"
   ]
  },
  {
   "cell_type": "code",
   "execution_count": 16,
   "id": "1d34cad7",
   "metadata": {
    "scrolled": true
   },
   "outputs": [
    {
     "data": {
      "text/plain": [
       "created_at                  object\n",
       "order_id                    object\n",
       "rent_channel                object\n",
       "payment_method              object\n",
       "car                         object\n",
       "car__owner__user_status     object\n",
       "car__brand                  object\n",
       "car__model                  object\n",
       "rental_category             object\n",
       "total_period               float64\n",
       "price_per_day              float64\n",
       "total_price                float64\n",
       "insurance_price            float64\n",
       "insurance_amount             int64\n",
       "vat_amount                 float64\n",
       "commission                 float64\n",
       "discount_amount            float64\n",
       "promotion_amount           float64\n",
       "redeem_amount              float64\n",
       "total_amount               float64\n",
       "hold_amount                  int64\n",
       "tax_withholding            float64\n",
       "status                      object\n",
       "confirm_at                  object\n",
       "dtype: object"
      ]
     },
     "execution_count": 16,
     "metadata": {},
     "output_type": "execute_result"
    }
   ],
   "source": [
    "df.dtypes"
   ]
  },
  {
   "cell_type": "code",
   "execution_count": 17,
   "id": "41d028c3",
   "metadata": {},
   "outputs": [
    {
     "data": {
      "text/html": [
       "<div>\n",
       "<style scoped>\n",
       "    .dataframe tbody tr th:only-of-type {\n",
       "        vertical-align: middle;\n",
       "    }\n",
       "\n",
       "    .dataframe tbody tr th {\n",
       "        vertical-align: top;\n",
       "    }\n",
       "\n",
       "    .dataframe thead th {\n",
       "        text-align: right;\n",
       "    }\n",
       "</style>\n",
       "<table border=\"1\" class=\"dataframe\">\n",
       "  <thead>\n",
       "    <tr style=\"text-align: right;\">\n",
       "      <th></th>\n",
       "      <th>created_at</th>\n",
       "      <th>order_id</th>\n",
       "      <th>rent_channel</th>\n",
       "      <th>payment_method</th>\n",
       "      <th>car</th>\n",
       "      <th>car__owner__user_status</th>\n",
       "      <th>car__brand</th>\n",
       "      <th>car__model</th>\n",
       "      <th>rental_category</th>\n",
       "      <th>total_period</th>\n",
       "      <th>...</th>\n",
       "      <th>vat_amount</th>\n",
       "      <th>commission</th>\n",
       "      <th>discount_amount</th>\n",
       "      <th>promotion_amount</th>\n",
       "      <th>redeem_amount</th>\n",
       "      <th>total_amount</th>\n",
       "      <th>hold_amount</th>\n",
       "      <th>tax_withholding</th>\n",
       "      <th>status</th>\n",
       "      <th>confirm_at</th>\n",
       "    </tr>\n",
       "  </thead>\n",
       "  <tbody>\n",
       "  </tbody>\n",
       "</table>\n",
       "<p>0 rows × 24 columns</p>\n",
       "</div>"
      ],
      "text/plain": [
       "Empty DataFrame\n",
       "Columns: [created_at, order_id, rent_channel, payment_method, car, car__owner__user_status, car__brand, car__model, rental_category, total_period, price_per_day, total_price, insurance_price, insurance_amount, vat_amount, commission, discount_amount, promotion_amount, redeem_amount, total_amount, hold_amount, tax_withholding, status, confirm_at]\n",
       "Index: []\n",
       "\n",
       "[0 rows x 24 columns]"
      ]
     },
     "execution_count": 17,
     "metadata": {},
     "output_type": "execute_result"
    }
   ],
   "source": [
    "df[df['created_at'] == '2019-12-31']"
   ]
  },
  {
   "cell_type": "code",
   "execution_count": 18,
   "id": "77b82db2",
   "metadata": {},
   "outputs": [],
   "source": [
    "df['created_at'] = pd.to_datetime(df['created_at'])\n"
   ]
  },
  {
   "cell_type": "code",
   "execution_count": 19,
   "id": "d9aeb9c5",
   "metadata": {},
   "outputs": [
    {
     "data": {
      "image/png": "[encoded data removed]",
      "text/plain": [
       "<Figure size 432x288 with 2 Axes>"
      ]
     },
     "metadata": {
      "needs_background": "light"
     },
     "output_type": "display_data"
    }
   ],
   "source": [
    "sns.heatmap(df.corr(),annot=True,linewidths=.5)\n",
    "plt.show()"
   ]
  },
  {
   "cell_type": "code",
   "execution_count": 20,
   "id": "017087ff",
   "metadata": {},
   "outputs": [
    {
     "data": {
      "text/plain": [
       "Index(['created_at', 'order_id', 'rent_channel', 'payment_method', 'car',\n",
       "       'car__owner__user_status', 'car__brand', 'car__model',\n",
       "       'rental_category', 'total_period', 'price_per_day', 'total_price',\n",
       "       'insurance_price', 'insurance_amount', 'vat_amount', 'commission',\n",
       "       'discount_amount', 'promotion_amount', 'redeem_amount', 'total_amount',\n",
       "       'hold_amount', 'tax_withholding', 'status', 'confirm_at'],\n",
       "      dtype='object')"
      ]
     },
     "execution_count": 20,
     "metadata": {},
     "output_type": "execute_result"
    }
   ],
   "source": [
    "df.columns"
   ]
  },
  {
   "cell_type": "code",
   "execution_count": 21,
   "id": "d1927e0f",
   "metadata": {},
   "outputs": [],
   "source": [
    "df1 = df[df['total_price'] < 200000]"
   ]
  },
  {
   "cell_type": "code",
   "execution_count": 22,
   "id": "5b90083f",
   "metadata": {},
   "outputs": [
    {
     "data": {
      "image/png": "[encoded data removed]",
      "text/plain": [
       "<Figure size 471.625x360 with 1 Axes>"
      ]
     },
     "metadata": {
      "needs_background": "light"
     },
     "output_type": "display_data"
    }
   ],
   "source": [
    "sns.lmplot(x=\"total_price\" , y = \"vat_amount\" , data = df1 , hue = \"car__brand\")\n",
    "plt.show()"
   ]
  },
  {
   "cell_type": "code",
   "execution_count": null,
   "id": "8f8bd763",
   "metadata": {},
   "outputs": [],
   "source": []
  },
  {
   "cell_type": "code",
   "execution_count": 23,
   "id": "899c475e",
   "metadata": {},
   "outputs": [],
   "source": [
    "#Predict Vat_amount from total_price using Linear Regression"
   ]
  },
  {
   "cell_type": "code",
   "execution_count": 92,
   "id": "d0b715ad",
   "metadata": {},
   "outputs": [],
   "source": [
    "import sklearn\n",
    "from sklearn.linear_model import LinearRegression"
   ]
  },
  {
   "cell_type": "code",
   "execution_count": 93,
   "id": "684f7e1b",
   "metadata": {},
   "outputs": [
    {
     "name": "stdout",
     "output_type": "stream",
     "text": [
      "sklearn version: 1.0.2\n"
     ]
    }
   ],
   "source": [
    "print(f'sklearn version: {sklearn.__version__}')"
   ]
  },
  {
   "cell_type": "code",
   "execution_count": 94,
   "id": "541c3b8a",
   "metadata": {},
   "outputs": [
    {
     "data": {
      "text/plain": [
       "LinearRegression()"
      ]
     },
     "execution_count": 94,
     "metadata": {},
     "output_type": "execute_result"
    }
   ],
   "source": [
    "model = LinearRegression() # create object/instance (create an instance from LinearRegression class)\n",
    "model"
   ]
  },
  {
   "cell_type": "code",
   "execution_count": 95,
   "id": "1f59a722",
   "metadata": {},
   "outputs": [
    {
     "data": {
      "text/plain": [
       "0    35640.0\n",
       "1     1700.0\n",
       "2      700.0\n",
       "3      990.0\n",
       "4     1700.0\n",
       "Name: total_price, dtype: float64"
      ]
     },
     "execution_count": 95,
     "metadata": {},
     "output_type": "execute_result"
    }
   ],
   "source": [
    "df['total_price'].head() # pandas Series"
   ]
  },
  {
   "cell_type": "code",
   "execution_count": 96,
   "id": "97bb35fd",
   "metadata": {},
   "outputs": [
    {
     "data": {
      "text/html": [
       "<div>\n",
       "<style scoped>\n",
       "    .dataframe tbody tr th:only-of-type {\n",
       "        vertical-align: middle;\n",
       "    }\n",
       "\n",
       "    .dataframe tbody tr th {\n",
       "        vertical-align: top;\n",
       "    }\n",
       "\n",
       "    .dataframe thead th {\n",
       "        text-align: right;\n",
       "    }\n",
       "</style>\n",
       "<table border=\"1\" class=\"dataframe\">\n",
       "  <thead>\n",
       "    <tr style=\"text-align: right;\">\n",
       "      <th></th>\n",
       "      <th>vat_amount</th>\n",
       "    </tr>\n",
       "  </thead>\n",
       "  <tbody>\n",
       "    <tr>\n",
       "      <th>0</th>\n",
       "      <td>2793.0</td>\n",
       "    </tr>\n",
       "    <tr>\n",
       "      <th>1</th>\n",
       "      <td>137.2</td>\n",
       "    </tr>\n",
       "    <tr>\n",
       "      <th>2</th>\n",
       "      <td>68.6</td>\n",
       "    </tr>\n",
       "    <tr>\n",
       "      <th>3</th>\n",
       "      <td>88.9</td>\n",
       "    </tr>\n",
       "    <tr>\n",
       "      <th>4</th>\n",
       "      <td>151.2</td>\n",
       "    </tr>\n",
       "  </tbody>\n",
       "</table>\n",
       "</div>"
      ],
      "text/plain": [
       "   vat_amount\n",
       "0      2793.0\n",
       "1       137.2\n",
       "2        68.6\n",
       "3        88.9\n",
       "4       151.2"
      ]
     },
     "execution_count": 96,
     "metadata": {},
     "output_type": "execute_result"
    }
   ],
   "source": [
    "df[['vat_amount']].head()"
   ]
  },
  {
   "cell_type": "code",
   "execution_count": 97,
   "id": "86a0a264",
   "metadata": {},
   "outputs": [
    {
     "data": {
      "text/plain": [
       "LinearRegression()"
      ]
     },
     "execution_count": 97,
     "metadata": {},
     "output_type": "execute_result"
    }
   ],
   "source": [
    "model.fit(df[['total_price']], df['vat_amount'])"
   ]
  },
  {
   "cell_type": "code",
   "execution_count": 98,
   "id": "2ff45a18",
   "metadata": {},
   "outputs": [
    {
     "data": {
      "text/plain": [
       "0.9921261241574333"
      ]
     },
     "execution_count": 98,
     "metadata": {},
     "output_type": "execute_result"
    }
   ],
   "source": [
    "model.score(df[['total_price']], df['vat_amount']) # step 3: model scoring"
   ]
  },
  {
   "cell_type": "code",
   "execution_count": 99,
   "id": "19b652e2",
   "metadata": {},
   "outputs": [
    {
     "name": "stderr",
     "output_type": "stream",
     "text": [
      "C:\\Users\\Jittabun\\anaconda3\\lib\\site-packages\\sklearn\\base.py:450: UserWarning: X does not have valid feature names, but LinearRegression was fitted with feature names\n",
      "  warnings.warn(\n"
     ]
    },
    {
     "data": {
      "text/plain": [
       "array([ 714.78819826, 1411.67158098, 1760.11327235])"
      ]
     },
     "execution_count": 99,
     "metadata": {},
     "output_type": "execute_result"
    }
   ],
   "source": [
    "model.predict([\n",
    "    [10000],\n",
    "    [20000],\n",
    "    [25000]\n",
    "])"
   ]
  },
  {
   "cell_type": "code",
   "execution_count": 100,
   "id": "e4e3ac55",
   "metadata": {},
   "outputs": [],
   "source": [
    "x=df1[['total_price']] # expect 2D array not Series (1D)\n",
    "y=df1.vat_amount"
   ]
  },
  {
   "cell_type": "code",
   "execution_count": 101,
   "id": "d0ab8091",
   "metadata": {},
   "outputs": [
    {
     "data": {
      "text/plain": [
       "LinearRegression()"
      ]
     },
     "execution_count": 101,
     "metadata": {},
     "output_type": "execute_result"
    }
   ],
   "source": [
    "model.fit(x, y)"
   ]
  },
  {
   "cell_type": "code",
   "execution_count": 102,
   "id": "a8dccbba",
   "metadata": {},
   "outputs": [
    {
     "data": {
      "text/plain": [
       "0.9766206829276429"
      ]
     },
     "execution_count": 102,
     "metadata": {},
     "output_type": "execute_result"
    }
   ],
   "source": [
    "model.score(x, y) # R-squared"
   ]
  },
  {
   "cell_type": "code",
   "execution_count": 103,
   "id": "55dd9ffb",
   "metadata": {},
   "outputs": [
    {
     "data": {
      "text/plain": [
       "19.82279197773272"
      ]
     },
     "execution_count": 103,
     "metadata": {},
     "output_type": "execute_result"
    }
   ],
   "source": [
    "model.intercept_"
   ]
  },
  {
   "cell_type": "code",
   "execution_count": 104,
   "id": "c9604465",
   "metadata": {},
   "outputs": [
    {
     "data": {
      "text/plain": [
       "array([0.06920175])"
      ]
     },
     "execution_count": 104,
     "metadata": {},
     "output_type": "execute_result"
    }
   ],
   "source": [
    "model.coef_"
   ]
  },
  {
   "cell_type": "code",
   "execution_count": 105,
   "id": "21a6edbe",
   "metadata": {},
   "outputs": [
    {
     "data": {
      "text/plain": [
       "array([642.63851217])"
      ]
     },
     "execution_count": 105,
     "metadata": {},
     "output_type": "execute_result"
    }
   ],
   "source": [
    "model.intercept_ + model.coef_ * 9000"
   ]
  },
  {
   "cell_type": "code",
   "execution_count": 106,
   "id": "7cd7e64b",
   "metadata": {},
   "outputs": [
    {
     "name": "stderr",
     "output_type": "stream",
     "text": [
      "C:\\Users\\Jittabun\\anaconda3\\lib\\site-packages\\sklearn\\base.py:450: UserWarning: X does not have valid feature names, but LinearRegression was fitted with feature names\n",
      "  warnings.warn(\n"
     ]
    },
    {
     "data": {
      "text/plain": [
       "array([137.46576135,  68.26401466])"
      ]
     },
     "execution_count": 106,
     "metadata": {},
     "output_type": "execute_result"
    }
   ],
   "source": [
    "model.predict([[1700], \n",
    "               [700]])"
   ]
  },
  {
   "cell_type": "code",
   "execution_count": 107,
   "id": "cfe730ea",
   "metadata": {
    "scrolled": true
   },
   "outputs": [
    {
     "name": "stdout",
     "output_type": "stream",
     "text": [
      "predicted response:\n",
      "[2486.17304395  137.46576135   68.26401466 ...  206.66750804  365.83152542\n",
      "  988.64724561]\n"
     ]
    }
   ],
   "source": [
    "y_pred = model.predict(x)\n",
    "print('predicted response:', y_pred, sep='\\n')"
   ]
  },
  {
   "cell_type": "code",
   "execution_count": 108,
   "id": "82b62fb7",
   "metadata": {},
   "outputs": [
    {
     "name": "stdout",
     "output_type": "stream",
     "text": [
      "predicted response:\n",
      "      total_price\n",
      "0     2486.173044\n",
      "1      137.465761\n",
      "2       68.264015\n",
      "3       88.332521\n",
      "4      137.465761\n",
      "...           ...\n",
      "3199   109.785063\n",
      "3200   154.766198\n",
      "3201   206.667508\n",
      "3202   365.831525\n",
      "3203   988.647246\n",
      "\n",
      "[3102 rows x 1 columns]\n"
     ]
    }
   ],
   "source": [
    "y_pred = model.intercept_ + model.coef_ * x\n",
    "print('predicted response:', y_pred, sep='\\n')"
   ]
  },
  {
   "cell_type": "code",
   "execution_count": 109,
   "id": "59c2eb43",
   "metadata": {},
   "outputs": [
    {
     "name": "stdout",
     "output_type": "stream",
     "text": [
      "[[    0]\n",
      " [10000]\n",
      " [20000]\n",
      " [30000]\n",
      " [50000]\n",
      " [80000]\n",
      " [90000]]\n"
     ]
    }
   ],
   "source": [
    "x_new = np.array([0,10000,20000,30000,50000,80000,90000]).reshape((-1, 1))\n",
    "\n",
    "print(x_new)"
   ]
  },
  {
   "cell_type": "code",
   "execution_count": 110,
   "id": "27ff49f8",
   "metadata": {},
   "outputs": [
    {
     "name": "stdout",
     "output_type": "stream",
     "text": [
      "[  19.82279198  711.84025886 1403.85772574 2095.87519262 3479.91012639\n",
      " 5555.96252703 6247.97999392]\n"
     ]
    },
    {
     "name": "stderr",
     "output_type": "stream",
     "text": [
      "C:\\Users\\Jittabun\\anaconda3\\lib\\site-packages\\sklearn\\base.py:450: UserWarning: X does not have valid feature names, but LinearRegression was fitted with feature names\n",
      "  warnings.warn(\n"
     ]
    }
   ],
   "source": [
    "y_new = model.predict(x_new)\n",
    "print(y_new)"
   ]
  },
  {
   "cell_type": "code",
   "execution_count": 112,
   "id": "516e1cdb",
   "metadata": {},
   "outputs": [
    {
     "data": {
      "image/png": "[encoded data removed]",
      "text/plain": [
       "<Figure size 864x576 with 1 Axes>"
      ]
     },
     "metadata": {
      "needs_background": "light"
     },
     "output_type": "display_data"
    }
   ],
   "source": [
    "N = len(x)\n",
    "colors = np.random.rand(N)\n",
    "plt.figure(figsize= (12,8))\n",
    "plt.scatter(X, y, label = \"actual\" , c=colors, alpha=0.5 )\n",
    "plt.plot(x_new, y_new, label = \"Predicted\", color = \"red\")\n",
    "plt.title(\"Predict vs Actual from total and vat\")\n",
    "plt.ylabel(\"Vat\")\n",
    "plt.xlabel(\"Total Price\")\n",
    "plt.xlim(0,90000)\n",
    "plt.legend()\n",
    "plt.show()"
   ]
  },
  {
   "cell_type": "markdown",
   "id": "23f36fdc",
   "metadata": {},
   "source": [
    "#### Stat models"
   ]
  },
  {
   "cell_type": "code",
   "execution_count": 113,
   "id": "6ede2f7a",
   "metadata": {},
   "outputs": [],
   "source": [
    "import statsmodels.api as sm\n",
    "import statsmodels.formula.api as smf"
   ]
  },
  {
   "cell_type": "code",
   "execution_count": 114,
   "id": "69a93ed2",
   "metadata": {},
   "outputs": [],
   "source": [
    "# formula: response ~ predictor1 + predictor2\n",
    "model_a = smf.ols(formula='total_price ~ vat_amount', data=df1).fit()"
   ]
  },
  {
   "cell_type": "code",
   "execution_count": 115,
   "id": "a88055a7",
   "metadata": {},
   "outputs": [
    {
     "data": {
      "text/html": [
       "<table class=\"simpletable\">\n",
       "<caption>OLS Regression Results</caption>\n",
       "<tr>\n",
       "  <th>Dep. Variable:</th>       <td>total_price</td>   <th>  R-squared:         </th> <td>   0.977</td> \n",
       "</tr>\n",
       "<tr>\n",
       "  <th>Model:</th>                   <td>OLS</td>       <th>  Adj. R-squared:    </th> <td>   0.977</td> \n",
       "</tr>\n",
       "<tr>\n",
       "  <th>Method:</th>             <td>Least Squares</td>  <th>  F-statistic:       </th> <td>1.295e+05</td>\n",
       "</tr>\n",
       "<tr>\n",
       "  <th>Date:</th>             <td>Sun, 20 Feb 2022</td> <th>  Prob (F-statistic):</th>  <td>  0.00</td>  \n",
       "</tr>\n",
       "<tr>\n",
       "  <th>Time:</th>                 <td>22:52:41</td>     <th>  Log-Likelihood:    </th> <td> -25720.</td> \n",
       "</tr>\n",
       "<tr>\n",
       "  <th>No. Observations:</th>      <td>  3102</td>      <th>  AIC:               </th> <td>5.144e+04</td>\n",
       "</tr>\n",
       "<tr>\n",
       "  <th>Df Residuals:</th>          <td>  3100</td>      <th>  BIC:               </th> <td>5.146e+04</td>\n",
       "</tr>\n",
       "<tr>\n",
       "  <th>Df Model:</th>              <td>     1</td>      <th>                     </th>     <td> </td>    \n",
       "</tr>\n",
       "<tr>\n",
       "  <th>Covariance Type:</th>      <td>nonrobust</td>    <th>                     </th>     <td> </td>    \n",
       "</tr>\n",
       "</table>\n",
       "<table class=\"simpletable\">\n",
       "<tr>\n",
       "       <td></td>         <th>coef</th>     <th>std err</th>      <th>t</th>      <th>P>|t|</th>  <th>[0.025</th>    <th>0.975]</th>  \n",
       "</tr>\n",
       "<tr>\n",
       "  <th>Intercept</th>  <td> -183.8770</td> <td>   21.034</td> <td>   -8.742</td> <td> 0.000</td> <td> -225.120</td> <td> -142.634</td>\n",
       "</tr>\n",
       "<tr>\n",
       "  <th>vat_amount</th> <td>   14.1127</td> <td>    0.039</td> <td>  359.855</td> <td> 0.000</td> <td>   14.036</td> <td>   14.190</td>\n",
       "</tr>\n",
       "</table>\n",
       "<table class=\"simpletable\">\n",
       "<tr>\n",
       "  <th>Omnibus:</th>       <td>3173.400</td> <th>  Durbin-Watson:     </th>  <td>   1.940</td> \n",
       "</tr>\n",
       "<tr>\n",
       "  <th>Prob(Omnibus):</th>  <td> 0.000</td>  <th>  Jarque-Bera (JB):  </th> <td>644829.366</td>\n",
       "</tr>\n",
       "<tr>\n",
       "  <th>Skew:</th>           <td> 4.534</td>  <th>  Prob(JB):          </th>  <td>    0.00</td> \n",
       "</tr>\n",
       "<tr>\n",
       "  <th>Kurtosis:</th>       <td>73.048</td>  <th>  Cond. No.          </th>  <td>    651.</td> \n",
       "</tr>\n",
       "</table><br/><br/>Notes:<br/>[1] Standard Errors assume that the covariance matrix of the errors is correctly specified."
      ],
      "text/plain": [
       "<class 'statsmodels.iolib.summary.Summary'>\n",
       "\"\"\"\n",
       "                            OLS Regression Results                            \n",
       "==============================================================================\n",
       "Dep. Variable:            total_price   R-squared:                       0.977\n",
       "Model:                            OLS   Adj. R-squared:                  0.977\n",
       "Method:                 Least Squares   F-statistic:                 1.295e+05\n",
       "Date:                Sun, 20 Feb 2022   Prob (F-statistic):               0.00\n",
       "Time:                        22:52:41   Log-Likelihood:                -25720.\n",
       "No. Observations:                3102   AIC:                         5.144e+04\n",
       "Df Residuals:                    3100   BIC:                         5.146e+04\n",
       "Df Model:                           1                                         \n",
       "Covariance Type:            nonrobust                                         \n",
       "==============================================================================\n",
       "                 coef    std err          t      P>|t|      [0.025      0.975]\n",
       "------------------------------------------------------------------------------\n",
       "Intercept   -183.8770     21.034     -8.742      0.000    -225.120    -142.634\n",
       "vat_amount    14.1127      0.039    359.855      0.000      14.036      14.190\n",
       "==============================================================================\n",
       "Omnibus:                     3173.400   Durbin-Watson:                   1.940\n",
       "Prob(Omnibus):                  0.000   Jarque-Bera (JB):           644829.366\n",
       "Skew:                           4.534   Prob(JB):                         0.00\n",
       "Kurtosis:                      73.048   Cond. No.                         651.\n",
       "==============================================================================\n",
       "\n",
       "Notes:\n",
       "[1] Standard Errors assume that the covariance matrix of the errors is correctly specified.\n",
       "\"\"\""
      ]
     },
     "execution_count": 115,
     "metadata": {},
     "output_type": "execute_result"
    }
   ],
   "source": [
    "model_a.summary()"
   ]
  },
  {
   "cell_type": "code",
   "execution_count": 116,
   "id": "840ad8bc",
   "metadata": {},
   "outputs": [
    {
     "name": "stdout",
     "output_type": "stream",
     "text": [
      "                            OLS Regression Results                            \n",
      "==============================================================================\n",
      "Dep. Variable:            total_price   R-squared:                       0.977\n",
      "Model:                            OLS   Adj. R-squared:                  0.977\n",
      "Method:                 Least Squares   F-statistic:                 1.295e+05\n",
      "Date:                Sun, 20 Feb 2022   Prob (F-statistic):               0.00\n",
      "Time:                        22:52:56   Log-Likelihood:                -25720.\n",
      "No. Observations:                3102   AIC:                         5.144e+04\n",
      "Df Residuals:                    3100   BIC:                         5.146e+04\n",
      "Df Model:                           1                                         \n",
      "Covariance Type:            nonrobust                                         \n",
      "==============================================================================\n",
      "                 coef    std err          t      P>|t|      [0.025      0.975]\n",
      "------------------------------------------------------------------------------\n",
      "Intercept   -183.8770     21.034     -8.742      0.000    -225.120    -142.634\n",
      "vat_amount    14.1127      0.039    359.855      0.000      14.036      14.190\n",
      "==============================================================================\n",
      "Omnibus:                     3173.400   Durbin-Watson:                   1.940\n",
      "Prob(Omnibus):                  0.000   Jarque-Bera (JB):           644829.366\n",
      "Skew:                           4.534   Prob(JB):                         0.00\n",
      "Kurtosis:                      73.048   Cond. No.                         651.\n",
      "==============================================================================\n",
      "\n",
      "Notes:\n",
      "[1] Standard Errors assume that the covariance matrix of the errors is correctly specified.\n"
     ]
    }
   ],
   "source": [
    "print(model_a.summary())"
   ]
  },
  {
   "cell_type": "code",
   "execution_count": 117,
   "id": "c510b7bc",
   "metadata": {},
   "outputs": [
    {
     "data": {
      "text/plain": [
       "Intercept     3.692547e-18\n",
       "vat_amount    0.000000e+00\n",
       "dtype: float64"
      ]
     },
     "execution_count": 117,
     "metadata": {},
     "output_type": "execute_result"
    }
   ],
   "source": [
    "model_a.pvalues"
   ]
  },
  {
   "cell_type": "code",
   "execution_count": 118,
   "id": "49efb027",
   "metadata": {},
   "outputs": [
    {
     "data": {
      "text/plain": [
       "19.82279197773272"
      ]
     },
     "execution_count": 118,
     "metadata": {},
     "output_type": "execute_result"
    }
   ],
   "source": [
    "model.intercept_ # sklearn"
   ]
  },
  {
   "cell_type": "code",
   "execution_count": 119,
   "id": "d419aaa6",
   "metadata": {},
   "outputs": [
    {
     "data": {
      "text/plain": [
       "array([0.06920175])"
      ]
     },
     "execution_count": 119,
     "metadata": {},
     "output_type": "execute_result"
    }
   ],
   "source": [
    "model.coef_"
   ]
  },
  {
   "cell_type": "code",
   "execution_count": 120,
   "id": "962c4b36",
   "metadata": {},
   "outputs": [
    {
     "name": "stdout",
     "output_type": "stream",
     "text": [
      "0.0692017\n"
     ]
    }
   ],
   "source": [
    "print(f'{model.coef_[0]:.7f}')"
   ]
  },
  {
   "cell_type": "code",
   "execution_count": null,
   "id": "ba4f8069",
   "metadata": {},
   "outputs": [],
   "source": []
  }
 ],
 "metadata": {
  "kernelspec": {
   "display_name": "Python 3",
   "language": "python",
   "name": "python3"
  },
  "language_info": {
   "codemirror_mode": {
    "name": "ipython",
    "version": 3
   },
   "file_extension": ".py",
   "mimetype": "text/x-python",
   "name": "python",
   "nbconvert_exporter": "python",
   "pygments_lexer": "ipython3",
   "version": "3.8.8"
  }
 },
 "nbformat": 4,
 "nbformat_minor": 5
}
